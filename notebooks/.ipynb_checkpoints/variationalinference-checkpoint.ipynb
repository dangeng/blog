{
 "cells": [
  {
   "cell_type": "markdown",
   "metadata": {},
   "source": [
    "In honor of the namesake of this website, this post will be a small introduction to **variational methods**.  We'll examine how variational methods are used in optimization, statistics, and machine learning.\n",
    "\n",
    "If you've never heard the word *variational* in the context of ML, here's a quick summary:\n",
    "\n",
    "\n",
    "\n",
    "> Variational methods approximate complicated functions with simpler functions that are easier to compute and work with. The process attempts to simultaneously find the best \"simple function\" to approximate with, and use this approximation for further computations.\n"
   ]
  },
  {
   "cell_type": "markdown",
   "metadata": {},
   "source": [
    "## Background"
   ]
  },
  {
   "cell_type": "markdown",
   "metadata": {},
   "source": [
    "Variational methods are typically grounded in the context of graphical models. We won't delve too deep into graphical models, but you should be generally familiar with key probabilistic concepts. Let's explore using the simple, commonly recurring,  probabilistic model below.\n",
    "\n",
    "<img src=\"/assets/posts/variationalinference/simple_model.png\" style=\"width:100px\">\n",
    "\n",
    "\n",
    "Here $X$ is an **observed variable** which corresponds to data we see, and $Z$ is a **latent variable** which determines salient features of $X$. \n",
    "\n",
    "As an example, let's imagine how the MNIST image dataset might be encoded probabilistically. $X$ would be the MNIST image (taking on a $\\mathbb{R}^{28 \\times 28}$ matrix), and $Z$ a categorical random variable which represents the number that is being shown (taking on a value in $\\{0 \\dots 9 \\}$)\n",
    "\n",
    "The latent variable has a prior distribution $p(Z)$, and the observed data has a conditional distribution  $p(X | Z=z)$, both of which are prespecified in advance. The joint probability of any pair $X=x$ and $Z=z$ is then given as \n",
    "\n",
    "$$P(X=x, Z=z) = P(X=x|Z=z)P(Z=z)$$\n",
    "\n",
    "There are two main queries of interest in this graphical model.\n",
    "\n",
    "1. $P(X=x)$ (Learning)\n",
    "2. $P(Z=z|X=x)$ (Inference)\n",
    "\n",
    "#### Learning\n",
    "\n",
    "In **learning**, we are given a prior distribution on $z$ ($p(z)$) and a family of probability distributions $$\\{ P_{\\theta}(x|z) ~~~~\\theta \\in \\Theta\\}$$\n",
    "\n",
    "Our goal is to find the best distribution $P_{\\theta}(x|z)$ to explain some observed data $X_1 \\dots X_n$\n",
    "\n",
    "$$ \\arg\\max_{\\theta} \\log P_{\\theta}(x_1 \\dots x_n)$$\n",
    "\n",
    "If you work through the math, we find that this objective is equal to\n",
    "\n",
    "$$ \\sum_{i=1}^n \\log \\mathbb{E}_{z \\sim Z}[P_{\\theta}(x_i| z)]$$\n"
   ]
  },
  {
   "cell_type": "markdown",
   "metadata": {},
   "source": [
    "<!-- PROOF -->\n",
    "\n",
    "$$\n",
    "\\begin{align*}\n",
    "\\log P_{\\theta}(x_1 \\dots x_n) &= \\sum_{i=1}^n \\log P_{\\theta}(x_i)\\\\\n",
    "&= \\sum_{i=1}^n \\log \\int P_{\\theta}(x_i, z) dz \\\\\n",
    "&= \\sum_{i=1}^n \\log \\int P_{\\theta}(x_i| z)p(z) dz \\\\\n",
    "&= \\sum_{i=1}^n \\log \\mathbb{E}_{z \\sim Z}[P_{\\theta}(x_i| z)]\\\\\n",
    "\\end{align*}\n",
    "$$"
   ]
  },
  {
   "cell_type": "markdown",
   "metadata": {},
   "source": [
    "Although the above is fine for simple families of distributions $\\Theta$, computing and optimizing the expectation quickly becomes challenging, since it involves computing an integral, which doesn't necessarily have a simple closed form. In particular, if we want to parametrize our distribution with a neural network, the integral is impossible."
   ]
  },
  {
   "cell_type": "markdown",
   "metadata": {},
   "source": [
    "#### Inference\n",
    "\n",
    "In **inference**, we are given both the prior distribution $p(z)$ and the conditional distribution of the data $p(x|z)$. Given a certain $X=x$, our goal is to find the *posterior* distribution of $z$: our belief of what the latent variable $z$ was that generated the data $x$. This corresponds to finding\n",
    "\n",
    "$$P(Z=z|X=x) = \\frac{P(X=x|Z=z)P(Z=z)}{P(X=x)} = \\frac{P(X=x|Z=z)P(Z=z)}{\\int P(X=x | Z=z') P(Z=z')dz'}$$\n",
    "\n",
    "Once again, except for the most simple distributions, computing the integral on the denominator is difficult and often intractable. "
   ]
  }
 ],
 "metadata": {
  "kernelspec": {
   "display_name": "Python 3",
   "language": "python",
   "name": "python3"
  },
  "language_info": {
   "codemirror_mode": {
    "name": "ipython",
    "version": 3
   },
   "file_extension": ".py",
   "mimetype": "text/x-python",
   "name": "python",
   "nbconvert_exporter": "python",
   "pygments_lexer": "ipython3",
   "version": "3.6.4"
  }
 },
 "nbformat": 4,
 "nbformat_minor": 2
}
